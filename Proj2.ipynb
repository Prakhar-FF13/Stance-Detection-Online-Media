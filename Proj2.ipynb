{
 "cells": [
  {
   "cell_type": "code",
   "execution_count": 27,
   "id": "wrMSrbUC_cjy",
   "metadata": {
    "colab": {
     "base_uri": "https://localhost:8080/"
    },
    "executionInfo": {
     "elapsed": 6119,
     "status": "ok",
     "timestamp": 1637846375368,
     "user": {
      "displayName": "Prakhar Kumar",
      "photoUrl": "https://lh3.googleusercontent.com/a/default-user=s64",
      "userId": "11860311149207622884"
     },
     "user_tz": -330
    },
    "id": "wrMSrbUC_cjy",
    "outputId": "cc3c8196-5cc9-4b86-a59d-ce90754dca04"
   },
   "outputs": [
    {
     "name": "stderr",
     "output_type": "stream",
     "text": [
      "[nltk_data] Downloading package stopwords to\n",
      "[nltk_data]     C:\\Users\\Acer\\AppData\\Roaming\\nltk_data...\n",
      "[nltk_data]   Package stopwords is already up-to-date!\n"
     ]
    }
   ],
   "source": [
    "import numpy as np\n",
    "import keras\n",
    "import pandas as pd\n",
    "import matplotlib.pyplot as plt\n",
    "# import seaborn as sns\n",
    "from nltk.corpus import stopwords\n",
    "from sklearn.feature_extraction.text import TfidfVectorizer\n",
    "from sklearn.linear_model import LogisticRegression\n",
    "from sklearn.tree import DecisionTreeClassifier\n",
    "from sklearn.ensemble import RandomForestClassifier\n",
    "from sklearn.svm import SVC\n",
    "from sklearn.metrics import f1_score, confusion_matrix\n",
    "from sklearn.metrics.pairwise import cosine_similarity, euclidean_distances, manhattan_distances\n",
    "from sklearn.model_selection import train_test_split\n",
    "from sklearn.preprocessing import LabelEncoder\n",
    "from sklearn.utils import class_weight\n",
    "from collections import Counter\n",
    "import joblib\n",
    "import re\n",
    "import string\n",
    "import os\n",
    "# from imblearn.over_sampling import RandomOverSampler\n",
    "from gensim.models import KeyedVectors\n",
    "import nltk\n",
    "nltk.download('stopwords')\n",
    "from scipy.sparse import hstack\n",
    "import tensorflow\n",
    "from tensorflow.keras.datasets import mnist\n",
    "from tensorflow.keras.models import Sequential\n",
    "from tensorflow.keras.layers import Dense, Dropout\n",
    "from tensorflow.keras.utils import to_categorical\n",
    "from tensorflow.keras.preprocessing.text import Tokenizer\n",
    "from tensorflow.keras.preprocessing.sequence import pad_sequences"
   ]
  },
  {
   "cell_type": "markdown",
   "id": "P_mf-aJQ_rga",
   "metadata": {
    "id": "P_mf-aJQ_rga"
   },
   "source": [
    "### Load Data:"
   ]
  },
  {
   "cell_type": "code",
   "execution_count": 4,
   "id": "XkuZhKp__odc",
   "metadata": {
    "id": "XkuZhKp__odc"
   },
   "outputs": [],
   "source": [
    "trainStances = pd.read_csv('train_stances.csv')\n",
    "trainBodies = pd.read_csv('train_bodies.csv')\n",
    "testStances = pd.read_csv('competition_test_stances.csv')\n",
    "testBodies = pd.read_csv('competition_test_bodies.csv')"
   ]
  },
  {
   "cell_type": "code",
   "execution_count": 5,
   "id": "7S64vW4_AEVO",
   "metadata": {
    "id": "7S64vW4_AEVO"
   },
   "outputs": [],
   "source": [
    "trainSet = pd.merge(trainStances, trainBodies, on=\"Body ID\")\n",
    "testSet = pd.merge(testStances, testBodies, on=\"Body ID\")"
   ]
  },
  {
   "cell_type": "code",
   "execution_count": 6,
   "id": "9oV49ufrM8H-",
   "metadata": {
    "colab": {
     "base_uri": "https://localhost:8080/",
     "height": 206
    },
    "executionInfo": {
     "elapsed": 4,
     "status": "ok",
     "timestamp": 1637650041158,
     "user": {
      "displayName": "Prakhar Kumar",
      "photoUrl": "https://lh3.googleusercontent.com/a/default-user=s64",
      "userId": "11860311149207622884"
     },
     "user_tz": -330
    },
    "id": "9oV49ufrM8H-",
    "outputId": "a8a6d274-aa8d-4462-b3dc-3a2f6d5ff735"
   },
   "outputs": [
    {
     "data": {
      "text/html": [
       "<div>\n",
       "<style scoped>\n",
       "    .dataframe tbody tr th:only-of-type {\n",
       "        vertical-align: middle;\n",
       "    }\n",
       "\n",
       "    .dataframe tbody tr th {\n",
       "        vertical-align: top;\n",
       "    }\n",
       "\n",
       "    .dataframe thead th {\n",
       "        text-align: right;\n",
       "    }\n",
       "</style>\n",
       "<table border=\"1\" class=\"dataframe\">\n",
       "  <thead>\n",
       "    <tr style=\"text-align: right;\">\n",
       "      <th></th>\n",
       "      <th>Headline</th>\n",
       "      <th>Body ID</th>\n",
       "      <th>Stance</th>\n",
       "      <th>articleBody</th>\n",
       "    </tr>\n",
       "  </thead>\n",
       "  <tbody>\n",
       "    <tr>\n",
       "      <th>0</th>\n",
       "      <td>Police find mass graves with at least '15 bodi...</td>\n",
       "      <td>712</td>\n",
       "      <td>unrelated</td>\n",
       "      <td>Danny Boyle is directing the untitled film\\n\\n...</td>\n",
       "    </tr>\n",
       "    <tr>\n",
       "      <th>1</th>\n",
       "      <td>Seth Rogen to Play Apple’s Steve Wozniak</td>\n",
       "      <td>712</td>\n",
       "      <td>discuss</td>\n",
       "      <td>Danny Boyle is directing the untitled film\\n\\n...</td>\n",
       "    </tr>\n",
       "    <tr>\n",
       "      <th>2</th>\n",
       "      <td>Mexico police find mass grave near site 43 stu...</td>\n",
       "      <td>712</td>\n",
       "      <td>unrelated</td>\n",
       "      <td>Danny Boyle is directing the untitled film\\n\\n...</td>\n",
       "    </tr>\n",
       "    <tr>\n",
       "      <th>3</th>\n",
       "      <td>Mexico Says Missing Students Not Found In Firs...</td>\n",
       "      <td>712</td>\n",
       "      <td>unrelated</td>\n",
       "      <td>Danny Boyle is directing the untitled film\\n\\n...</td>\n",
       "    </tr>\n",
       "    <tr>\n",
       "      <th>4</th>\n",
       "      <td>New iOS 8 bug can delete all of your iCloud do...</td>\n",
       "      <td>712</td>\n",
       "      <td>unrelated</td>\n",
       "      <td>Danny Boyle is directing the untitled film\\n\\n...</td>\n",
       "    </tr>\n",
       "  </tbody>\n",
       "</table>\n",
       "</div>"
      ],
      "text/plain": [
       "                                            Headline  Body ID     Stance  \\\n",
       "0  Police find mass graves with at least '15 bodi...      712  unrelated   \n",
       "1           Seth Rogen to Play Apple’s Steve Wozniak      712    discuss   \n",
       "2  Mexico police find mass grave near site 43 stu...      712  unrelated   \n",
       "3  Mexico Says Missing Students Not Found In Firs...      712  unrelated   \n",
       "4  New iOS 8 bug can delete all of your iCloud do...      712  unrelated   \n",
       "\n",
       "                                         articleBody  \n",
       "0  Danny Boyle is directing the untitled film\\n\\n...  \n",
       "1  Danny Boyle is directing the untitled film\\n\\n...  \n",
       "2  Danny Boyle is directing the untitled film\\n\\n...  \n",
       "3  Danny Boyle is directing the untitled film\\n\\n...  \n",
       "4  Danny Boyle is directing the untitled film\\n\\n...  "
      ]
     },
     "execution_count": 6,
     "metadata": {},
     "output_type": "execute_result"
    }
   ],
   "source": [
    "trainSet.head()"
   ]
  },
  {
   "cell_type": "code",
   "execution_count": 7,
   "id": "Ss64N4deAh2L",
   "metadata": {
    "colab": {
     "base_uri": "https://localhost:8080/"
    },
    "executionInfo": {
     "elapsed": 1274,
     "status": "ok",
     "timestamp": 1637650044109,
     "user": {
      "displayName": "Prakhar Kumar",
      "photoUrl": "https://lh3.googleusercontent.com/a/default-user=s64",
      "userId": "11860311149207622884"
     },
     "user_tz": -330
    },
    "id": "Ss64N4deAh2L",
    "outputId": "b901a5dc-c6f2-4a5f-99a7-54612c0264fb"
   },
   "outputs": [
    {
     "data": {
      "text/plain": [
       "['UnrelatedVsOthersVectorizer']"
      ]
     },
     "execution_count": 7,
     "metadata": {},
     "output_type": "execute_result"
    }
   ],
   "source": [
    "vectorizer = TfidfVectorizer(max_features=1000, stop_words='english')\n",
    "wholeText = np.append(trainSet['Headline'].unique(), trainSet['articleBody'].unique())\n",
    "vectorizer.fit(wholeText)\n",
    "joblib.dump(vectorizer, 'UnrelatedVsOthersVectorizer')"
   ]
  },
  {
   "cell_type": "code",
   "execution_count": 8,
   "id": "H-d_1EPmYbhZ",
   "metadata": {
    "id": "H-d_1EPmYbhZ"
   },
   "outputs": [],
   "source": [
    "vectorizer = joblib.load(\"UnrelatedVsOthersVectorizer\")"
   ]
  },
  {
   "cell_type": "markdown",
   "id": "N9Y4UQ-qBSCd",
   "metadata": {
    "id": "N9Y4UQ-qBSCd"
   },
   "source": [
    "### Training On Unrelated vs Others (Agree, Disagree, Discuss) :"
   ]
  },
  {
   "cell_type": "code",
   "execution_count": 9,
   "id": "9wFxuFccAkhc",
   "metadata": {
    "id": "9wFxuFccAkhc"
   },
   "outputs": [],
   "source": [
    "def convertToRequired(x):\n",
    "  x['headTFIDF'] = vectorizer.transform(x['Headline']).toarray().tolist()\n",
    "  x['articleBodyTFIDF'] = vectorizer.transform(x['articleBody']).toarray().tolist()\n",
    "  del(x['Headline'])\n",
    "  del(x['articleBody'])\n",
    "\n",
    "  p = x['headTFIDF'].tolist()\n",
    "  q = x['articleBodyTFIDF'].tolist()\n",
    "  del(x['headTFIDF'])\n",
    "  del(x['articleBodyTFIDF'])\n",
    "\n",
    "  # Calculate distances between headline TFIDF and Body TFIDF\n",
    "  cos = []\n",
    "  euc = []\n",
    "  man = []\n",
    "  hav = []\n",
    "  for idx, _ in enumerate(p):\n",
    "    cos.append(cosine_similarity( [p[idx]], [q[idx]])[0][0])\n",
    "    euc.append(euclidean_distances( [p[idx]], [q[idx]])[0][0])\n",
    "    man.append(manhattan_distances( [p[idx]], [q[idx]])[0][0])\n",
    "  x['cos_simil'] = cos\n",
    "  x['euclidean'] = euc\n",
    "  x['manhattan'] = man\n",
    "\n",
    "  del(cos)\n",
    "  del(euc)\n",
    "  del(man)\n",
    "  del(hav)\n",
    "\n",
    "  # Map to 0(unrelated) and 1(others - agree, disagree, discuss) only\n",
    "  x['Stance'] = x['Stance'].map({'agree': 1, 'disagree': 1, 'discuss': 1, 'unrelated': 0})\n",
    "\n",
    "  return x"
   ]
  },
  {
   "cell_type": "code",
   "execution_count": 10,
   "id": "2JXMlwgoCefr",
   "metadata": {
    "id": "2JXMlwgoCefr"
   },
   "outputs": [],
   "source": [
    "trainSet = convertToRequired(trainSet)\n",
    "testSet = convertToRequired(testSet)"
   ]
  },
  {
   "cell_type": "code",
   "execution_count": 11,
   "id": "Ck9N7ENxMJ1k",
   "metadata": {
    "id": "Ck9N7ENxMJ1k"
   },
   "outputs": [],
   "source": [
    "trainSet.to_csv('UnrelatedVsOthersTrain.csv')\n",
    "testSet.to_csv('UnrelatedVsOthersTest.csv')"
   ]
  },
  {
   "cell_type": "code",
   "execution_count": 12,
   "id": "zDgta3lZWKWw",
   "metadata": {
    "id": "zDgta3lZWKWw"
   },
   "outputs": [],
   "source": [
    "trainSet = pd.read_csv('UnrelatedVsOthersTrain.csv')\n",
    "testSet = pd.read_csv('UnrelatedVsOthersTest.csv')"
   ]
  },
  {
   "cell_type": "code",
   "execution_count": 13,
   "id": "rd__zf8IMt3W",
   "metadata": {
    "id": "rd__zf8IMt3W"
   },
   "outputs": [],
   "source": [
    "X_train = trainSet[['cos_simil', 'euclidean', 'manhattan']]\n",
    "y_train = trainSet['Stance']"
   ]
  },
  {
   "cell_type": "code",
   "execution_count": 14,
   "id": "7mq07HrQT0u3",
   "metadata": {
    "id": "7mq07HrQT0u3"
   },
   "outputs": [],
   "source": [
    "cw = class_weight.compute_class_weight('balanced', classes=np.unique(y_train), y=y_train)\n",
    "cw = dict(enumerate(cw))"
   ]
  },
  {
   "cell_type": "markdown",
   "id": "akodEOyLWXF3",
   "metadata": {
    "id": "akodEOyLWXF3"
   },
   "source": [
    "#### Logistic Regression"
   ]
  },
  {
   "cell_type": "code",
   "execution_count": 15,
   "id": "DDkISHROTA0d",
   "metadata": {
    "colab": {
     "base_uri": "https://localhost:8080/"
    },
    "executionInfo": {
     "elapsed": 16,
     "status": "ok",
     "timestamp": 1637650154912,
     "user": {
      "displayName": "Prakhar Kumar",
      "photoUrl": "https://lh3.googleusercontent.com/a/default-user=s64",
      "userId": "11860311149207622884"
     },
     "user_tz": -330
    },
    "id": "DDkISHROTA0d",
    "outputId": "049810c5-a513-4bfa-c254-3d8ec154710f"
   },
   "outputs": [
    {
     "data": {
      "text/plain": [
       "LogisticRegression(class_weight={0: 0.6837050212067314, 1: 1.860877336709615})"
      ]
     },
     "execution_count": 15,
     "metadata": {},
     "output_type": "execute_result"
    }
   ],
   "source": [
    "LR = LogisticRegression(class_weight=cw)\n",
    "LR.fit(X_train, y_train)"
   ]
  },
  {
   "cell_type": "code",
   "execution_count": 16,
   "id": "lcnt2EH2UegG",
   "metadata": {
    "colab": {
     "base_uri": "https://localhost:8080/"
    },
    "executionInfo": {
     "elapsed": 12,
     "status": "ok",
     "timestamp": 1637650154913,
     "user": {
      "displayName": "Prakhar Kumar",
      "photoUrl": "https://lh3.googleusercontent.com/a/default-user=s64",
      "userId": "11860311149207622884"
     },
     "user_tz": -330
    },
    "id": "lcnt2EH2UegG",
    "outputId": "2c6a3818-837b-434a-b9f5-d00efb3f87d4"
   },
   "outputs": [
    {
     "data": {
      "text/plain": [
       "0.7551626693717847"
      ]
     },
     "execution_count": 16,
     "metadata": {},
     "output_type": "execute_result"
    }
   ],
   "source": [
    "preds = LR.predict(testSet[['cos_simil', 'euclidean', 'manhattan']])\n",
    "f1_score(testSet['Stance'], preds)"
   ]
  },
  {
   "cell_type": "code",
   "execution_count": 18,
   "id": "gs11PawaUqC4",
   "metadata": {
    "colab": {
     "base_uri": "https://localhost:8080/",
     "height": 388
    },
    "executionInfo": {
     "elapsed": 663,
     "status": "ok",
     "timestamp": 1637650155568,
     "user": {
      "displayName": "Prakhar Kumar",
      "photoUrl": "https://lh3.googleusercontent.com/a/default-user=s64",
      "userId": "11860311149207622884"
     },
     "user_tz": -330
    },
    "id": "gs11PawaUqC4",
    "outputId": "00f685e3-6a37-4e1a-a921-5f78c5f26d35"
   },
   "outputs": [
    {
     "data": {
      "image/png": "[encoded data removed]",
      "text/plain": [
       "<Figure size 576x432 with 1 Axes>"
      ]
     },
     "metadata": {
      "needs_background": "light"
     },
     "output_type": "display_data"
    }
   ],
   "source": [
    "cwMat = confusion_matrix(testSet['Stance'], preds, labels = [0, 1])\n",
    "cwDf = pd.DataFrame(cwMat, index=[\"unrelated\", \"others\"], columns=[\"unrelated\", \"others\"])\n",
    "plt.figure(figsize=(8,6))\n",
    "# sns.heatmap(cwDf, annot=True, fmt=\"d\")\n",
    "plt.xlabel('predicted')\n",
    "plt.ylabel('actual')\n",
    "plt.show()"
   ]
  },
  {
   "cell_type": "markdown",
   "id": "WJKKMWkFWZgP",
   "metadata": {
    "id": "WJKKMWkFWZgP"
   },
   "source": [
    "#### MLP:"
   ]
  },
  {
   "cell_type": "code",
   "execution_count": 19,
   "id": "1wKifZYBU_O0",
   "metadata": {
    "id": "1wKifZYBU_O0"
   },
   "outputs": [],
   "source": [
    "model = Sequential()\n",
    "model.add(Dense(50, input_dim=3, activation='relu'))\n",
    "model.add(Dense(10, activation='relu'))\n",
    "model.add(Dense(2, activation='softmax'))\n",
    "model.compile(loss='binary_crossentropy', optimizer='adam', metrics=['accuracy'])"
   ]
  },
  {
   "cell_type": "code",
   "execution_count": 20,
   "id": "rBZCjD4YXKTu",
   "metadata": {
    "id": "rBZCjD4YXKTu"
   },
   "outputs": [],
   "source": [
    "new_y_train = to_categorical(y_train)"
   ]
  },
  {
   "cell_type": "code",
   "execution_count": 21,
   "id": "ExKvx8EeXGRx",
   "metadata": {
    "colab": {
     "base_uri": "https://localhost:8080/"
    },
    "executionInfo": {
     "elapsed": 47555,
     "status": "ok",
     "timestamp": 1637650203118,
     "user": {
      "displayName": "Prakhar Kumar",
      "photoUrl": "https://lh3.googleusercontent.com/a/default-user=s64",
      "userId": "11860311149207622884"
     },
     "user_tz": -330
    },
    "id": "ExKvx8EeXGRx",
    "outputId": "555b817e-5406-4103-82c6-c884f5a0b010"
   },
   "outputs": [
    {
     "name": "stdout",
     "output_type": "stream",
     "text": [
      "Epoch 1/15\n",
      "1250/1250 [==============================] - 3s 1ms/step - loss: 0.2410 - accuracy: 0.9399 - val_loss: 0.1551 - val_accuracy: 0.9513\n",
      "Epoch 2/15\n",
      "1250/1250 [==============================] - 2s 2ms/step - loss: 0.1308 - accuracy: 0.9649 - val_loss: 0.1530 - val_accuracy: 0.9488\n",
      "Epoch 3/15\n",
      "1250/1250 [==============================] - 2s 2ms/step - loss: 0.1282 - accuracy: 0.9633 - val_loss: 0.1675 - val_accuracy: 0.9500\n",
      "Epoch 4/15\n",
      "1250/1250 [==============================] - 2s 2ms/step - loss: 0.1274 - accuracy: 0.9625 - val_loss: 0.1486 - val_accuracy: 0.9507\n",
      "Epoch 5/15\n",
      "1250/1250 [==============================] - 2s 1ms/step - loss: 0.1270 - accuracy: 0.9628 - val_loss: 0.1472 - val_accuracy: 0.9520\n",
      "Epoch 6/15\n",
      "1250/1250 [==============================] - 2s 2ms/step - loss: 0.1261 - accuracy: 0.9624 - val_loss: 0.1687 - val_accuracy: 0.9459\n",
      "Epoch 7/15\n",
      "1250/1250 [==============================] - 2s 2ms/step - loss: 0.1267 - accuracy: 0.9620 - val_loss: 0.1468 - val_accuracy: 0.9521\n",
      "Epoch 8/15\n",
      "1250/1250 [==============================] - 2s 1ms/step - loss: 0.1258 - accuracy: 0.9616 - val_loss: 0.1526 - val_accuracy: 0.9502\n",
      "Epoch 9/15\n",
      "1250/1250 [==============================] - 3s 2ms/step - loss: 0.1252 - accuracy: 0.9615 - val_loss: 0.1458 - val_accuracy: 0.9526\n",
      "Epoch 10/15\n",
      "1250/1250 [==============================] - 2s 2ms/step - loss: 0.1258 - accuracy: 0.9615 - val_loss: 0.1524 - val_accuracy: 0.9485\n",
      "Epoch 11/15\n",
      "1250/1250 [==============================] - 2s 2ms/step - loss: 0.1250 - accuracy: 0.9617 - val_loss: 0.1472 - val_accuracy: 0.9523\n",
      "Epoch 12/15\n",
      "1250/1250 [==============================] - 2s 2ms/step - loss: 0.1252 - accuracy: 0.9612 - val_loss: 0.1485 - val_accuracy: 0.9509\n",
      "Epoch 13/15\n",
      "1250/1250 [==============================] - 2s 1ms/step - loss: 0.1245 - accuracy: 0.9615 - val_loss: 0.1459 - val_accuracy: 0.9524\n",
      "Epoch 14/15\n",
      "1250/1250 [==============================] - 2s 1ms/step - loss: 0.1244 - accuracy: 0.9627 - val_loss: 0.1517 - val_accuracy: 0.9512\n",
      "Epoch 15/15\n",
      "1250/1250 [==============================] - 2s 2ms/step - loss: 0.1249 - accuracy: 0.9614 - val_loss: 0.1458 - val_accuracy: 0.9525\n"
     ]
    },
    {
     "data": {
      "text/plain": [
       "<keras.callbacks.History at 0x287485cc250>"
      ]
     },
     "execution_count": 21,
     "metadata": {},
     "output_type": "execute_result"
    }
   ],
   "source": [
    "model.fit(X_train, new_y_train, epochs = 15, validation_split=0.2, class_weight=cw)"
   ]
  },
  {
   "cell_type": "code",
   "execution_count": 26,
   "id": "uf0_WK1fjQQO",
   "metadata": {
    "colab": {
     "base_uri": "https://localhost:8080/"
    },
    "executionInfo": {
     "elapsed": 1573,
     "status": "ok",
     "timestamp": 1637650208346,
     "user": {
      "displayName": "Prakhar Kumar",
      "photoUrl": "https://lh3.googleusercontent.com/a/default-user=s64",
      "userId": "11860311149207622884"
     },
     "user_tz": -330
    },
    "id": "uf0_WK1fjQQO",
    "outputId": "f32569d7-39c9-44c1-9a17-f41a8d259c1f"
   },
   "outputs": [],
   "source": [
    "# joblib.dump(model, \"UnrelatedVsOthersModel\")\n",
    "model.save('uVSo.h5')"
   ]
  },
  {
   "cell_type": "code",
   "execution_count": 28,
   "id": "1jbfJviGYl9Z",
   "metadata": {
    "id": "1jbfJviGYl9Z"
   },
   "outputs": [],
   "source": [
    "# model1 = joblib.load(\"UnrelatedVsOthersModel\")"
   ]
  },
  {
   "cell_type": "code",
   "execution_count": 29,
   "id": "Z0MCq16pXHRa",
   "metadata": {
    "id": "Z0MCq16pXHRa"
   },
   "outputs": [],
   "source": [
    "preds = model.predict(testSet[['cos_simil', 'euclidean', 'manhattan']])"
   ]
  },
  {
   "cell_type": "code",
   "execution_count": 30,
   "id": "LhjRTYChXthq",
   "metadata": {
    "id": "LhjRTYChXthq"
   },
   "outputs": [],
   "source": [
    "preds = [np.argmax(x) for x in preds]"
   ]
  },
  {
   "cell_type": "code",
   "execution_count": 31,
   "id": "SfMq-K71Xx0d",
   "metadata": {
    "colab": {
     "base_uri": "https://localhost:8080/"
    },
    "executionInfo": {
     "elapsed": 7,
     "status": "ok",
     "timestamp": 1637650241405,
     "user": {
      "displayName": "Prakhar Kumar",
      "photoUrl": "https://lh3.googleusercontent.com/a/default-user=s64",
      "userId": "11860311149207622884"
     },
     "user_tz": -330
    },
    "id": "SfMq-K71Xx0d",
    "outputId": "0b7fd928-928a-4136-d67b-63d8100158bf"
   },
   "outputs": [
    {
     "data": {
      "text/plain": [
       "0.773655192966771"
      ]
     },
     "execution_count": 31,
     "metadata": {},
     "output_type": "execute_result"
    }
   ],
   "source": [
    "f1_score(testSet['Stance'], preds)"
   ]
  },
  {
   "cell_type": "code",
   "execution_count": 33,
   "id": "rBN2Wg6yX1Xr",
   "metadata": {
    "colab": {
     "base_uri": "https://localhost:8080/",
     "height": 388
    },
    "executionInfo": {
     "elapsed": 442,
     "status": "ok",
     "timestamp": 1637650244871,
     "user": {
      "displayName": "Prakhar Kumar",
      "photoUrl": "https://lh3.googleusercontent.com/a/default-user=s64",
      "userId": "11860311149207622884"
     },
     "user_tz": -330
    },
    "id": "rBN2Wg6yX1Xr",
    "outputId": "d01e82a6-322c-4e47-b7f0-17c62f170452"
   },
   "outputs": [
    {
     "data": {
      "image/png": "[encoded data removed]",
      "text/plain": [
       "<Figure size 576x432 with 1 Axes>"
      ]
     },
     "metadata": {
      "needs_background": "light"
     },
     "output_type": "display_data"
    }
   ],
   "source": [
    "cwMat = confusion_matrix(testSet['Stance'], preds, labels = [0, 1])\n",
    "cwDf = pd.DataFrame(cwMat, index=[\"unrelated\", \"others\"], columns=[\"unrelated\", \"others\"])\n",
    "plt.figure(figsize=(8,6))\n",
    "# sns.heatmap(cwDf, annot=True, fmt=\"d\")\n",
    "plt.xlabel('predicted')\n",
    "plt.ylabel('actual')\n",
    "plt.show()"
   ]
  },
  {
   "cell_type": "markdown",
   "id": "aPEydNVAYlTs",
   "metadata": {
    "id": "aPEydNVAYlTs"
   },
   "source": [
    "### Training Between Other 3 Classes:"
   ]
  },
  {
   "cell_type": "markdown",
   "id": "hA0lFVy0-tSi",
   "metadata": {
    "id": "hA0lFVy0-tSi"
   },
   "source": [
    "### MLP:"
   ]
  },
  {
   "cell_type": "code",
   "execution_count": 34,
   "id": "kV8i8bidX47Y",
   "metadata": {
    "id": "kV8i8bidX47Y"
   },
   "outputs": [],
   "source": [
    "trainStances = pd.read_csv('train_stances.csv')\n",
    "trainBodies = pd.read_csv('train_bodies.csv')\n",
    "testStances = pd.read_csv('competition_test_stances.csv')\n",
    "testBodies = pd.read_csv('competition_test_bodies.csv')"
   ]
  },
  {
   "cell_type": "code",
   "execution_count": 35,
   "id": "HgMU7OpkdCLc",
   "metadata": {
    "id": "HgMU7OpkdCLc"
   },
   "outputs": [],
   "source": [
    "trainSet = pd.merge(trainStances, trainBodies, on=\"Body ID\")\n",
    "testSet = pd.merge(testStances, testBodies, on=\"Body ID\")"
   ]
  },
  {
   "cell_type": "code",
   "execution_count": 36,
   "id": "nnQS5GLIdIME",
   "metadata": {
    "colab": {
     "base_uri": "https://localhost:8080/"
    },
    "executionInfo": {
     "elapsed": 1281,
     "status": "ok",
     "timestamp": 1637815128878,
     "user": {
      "displayName": "Prakhar Kumar",
      "photoUrl": "https://lh3.googleusercontent.com/a/default-user=s64",
      "userId": "11860311149207622884"
     },
     "user_tz": -330
    },
    "id": "nnQS5GLIdIME",
    "outputId": "c50b316f-81a6-4595-a514-dc9039772b22"
   },
   "outputs": [
    {
     "data": {
      "text/plain": [
       "['OthersVectorizer']"
      ]
     },
     "execution_count": 36,
     "metadata": {},
     "output_type": "execute_result"
    }
   ],
   "source": [
    "vectorizer2 = TfidfVectorizer(max_features=3000, stop_words='english')\n",
    "wholeText = np.append(trainSet['Headline'].unique(), trainSet['articleBody'].unique())\n",
    "vectorizer2.fit(wholeText)\n",
    "joblib.dump(vectorizer2, 'OthersVectorizer')"
   ]
  },
  {
   "cell_type": "code",
   "execution_count": 37,
   "id": "7PXUJBPaYwNn",
   "metadata": {
    "id": "7PXUJBPaYwNn"
   },
   "outputs": [],
   "source": [
    "vectorizer2 = joblib.load(\"OthersVectorizer\")"
   ]
  },
  {
   "cell_type": "code",
   "execution_count": 38,
   "id": "wZMQdrjQdQMG",
   "metadata": {
    "id": "wZMQdrjQdQMG"
   },
   "outputs": [],
   "source": [
    "def convertToRequired(x):\n",
    "  x = x.drop(x[x['Stance'] == 'unrelated'].index)\n",
    "\n",
    "  x['headTFIDF'] = vectorizer2.transform(x['Headline']).toarray().tolist()\n",
    "  x['articleBodyTFIDF'] = vectorizer2.transform(x['articleBody']).toarray().tolist()\n",
    "  x['allTFIDF'] = np.concatenate((x['headTFIDF'].tolist(), x['articleBodyTFIDF'].tolist()), axis=1).tolist()\n",
    "  del(x['Headline'])\n",
    "  del(x['articleBody'])\n",
    "  del(x['headTFIDF'])\n",
    "  del(x['articleBodyTFIDF'])\n",
    "  del(x['Body ID'])\n",
    "\n",
    "  # Map\n",
    "  x['Stance'] = x['Stance'].map({'agree': 0, 'disagree': 1, 'discuss': 2})\n",
    "\n",
    "  return x"
   ]
  },
  {
   "cell_type": "code",
   "execution_count": 39,
   "id": "xFumZjTJfMkG",
   "metadata": {
    "id": "xFumZjTJfMkG"
   },
   "outputs": [],
   "source": [
    "trainSet = convertToRequired(trainSet)\n",
    "testSet = convertToRequired(testSet)"
   ]
  },
  {
   "cell_type": "code",
   "execution_count": 40,
   "id": "Zn6TdqwWfUPx",
   "metadata": {
    "id": "Zn6TdqwWfUPx"
   },
   "outputs": [],
   "source": [
    "trainSet.to_pickle('OthersTrain.pkl')\n",
    "testSet.to_pickle('OthersTest.pkl')"
   ]
  },
  {
   "cell_type": "code",
   "execution_count": null,
   "id": "uDB5Wj4piUWI",
   "metadata": {
    "id": "uDB5Wj4piUWI"
   },
   "outputs": [],
   "source": [
    "trainSet = pd.read_pickle('OthersTrain.pkl')\n",
    "testSet = pd.read_pickle('OthersTest.pkl')"
   ]
  },
  {
   "cell_type": "code",
   "execution_count": null,
   "id": "kodCIWrtgVde",
   "metadata": {
    "colab": {
     "base_uri": "https://localhost:8080/",
     "height": 175
    },
    "executionInfo": {
     "elapsed": 14,
     "status": "ok",
     "timestamp": 1637817946401,
     "user": {
      "displayName": "Prakhar Kumar",
      "photoUrl": "https://lh3.googleusercontent.com/a/default-user=s64",
      "userId": "11860311149207622884"
     },
     "user_tz": -330
    },
    "id": "kodCIWrtgVde",
    "outputId": "eac7f029-76fc-4598-8e54-0c73372cebf1"
   },
   "outputs": [
    {
     "data": {
      "text/html": [
       "<div>\n",
       "<style scoped>\n",
       "    .dataframe tbody tr th:only-of-type {\n",
       "        vertical-align: middle;\n",
       "    }\n",
       "\n",
       "    .dataframe tbody tr th {\n",
       "        vertical-align: top;\n",
       "    }\n",
       "\n",
       "    .dataframe thead th {\n",
       "        text-align: right;\n",
       "    }\n",
       "</style>\n",
       "<table border=\"1\" class=\"dataframe\">\n",
       "  <thead>\n",
       "    <tr style=\"text-align: right;\">\n",
       "      <th></th>\n",
       "      <th>allTFIDF</th>\n",
       "    </tr>\n",
       "    <tr>\n",
       "      <th>Stance</th>\n",
       "      <th></th>\n",
       "    </tr>\n",
       "  </thead>\n",
       "  <tbody>\n",
       "    <tr>\n",
       "      <th>0</th>\n",
       "      <td>3678</td>\n",
       "    </tr>\n",
       "    <tr>\n",
       "      <th>1</th>\n",
       "      <td>840</td>\n",
       "    </tr>\n",
       "    <tr>\n",
       "      <th>2</th>\n",
       "      <td>8909</td>\n",
       "    </tr>\n",
       "  </tbody>\n",
       "</table>\n",
       "</div>"
      ],
      "text/plain": [
       "        allTFIDF\n",
       "Stance          \n",
       "0           3678\n",
       "1            840\n",
       "2           8909"
      ]
     },
     "execution_count": 6,
     "metadata": {},
     "output_type": "execute_result"
    }
   ],
   "source": [
    "trainSet.groupby('Stance').count()"
   ]
  },
  {
   "cell_type": "code",
   "execution_count": 41,
   "id": "f7F1THnFhA8V",
   "metadata": {
    "id": "f7F1THnFhA8V"
   },
   "outputs": [],
   "source": [
    "cw = class_weight.compute_class_weight('balanced', classes=np.unique(trainSet['Stance']), y=trainSet['Stance'])\n",
    "cw = dict(enumerate(cw))"
   ]
  },
  {
   "cell_type": "code",
   "execution_count": 42,
   "id": "1AJZafunh-yr",
   "metadata": {
    "id": "1AJZafunh-yr"
   },
   "outputs": [],
   "source": [
    "X_train = np.array(trainSet['allTFIDF'].tolist())\n",
    "y_train = to_categorical(trainSet['Stance'], num_classes=3)\n",
    "X_test = np.array(testSet['allTFIDF'].tolist())\n",
    "y_test = to_categorical(testSet['Stance'], num_classes=3)"
   ]
  },
  {
   "cell_type": "code",
   "execution_count": 43,
   "id": "YkqrL2_HrIHn",
   "metadata": {
    "id": "YkqrL2_HrIHn"
   },
   "outputs": [],
   "source": [
    "model = Sequential()\n",
    "model.add(Dense(128, input_dim=6000, activation='relu'))\n",
    "model.add(Dense(64, activation='relu'))\n",
    "model.add(Dropout(0.4))\n",
    "model.add(Dense(32, activation='relu'))\n",
    "model.add(Dense(3, activation='sigmoid'))\n",
    "model.compile(loss='binary_crossentropy', optimizer='adam', metrics=['accuracy'])"
   ]
  },
  {
   "cell_type": "code",
   "execution_count": null,
   "id": "KSO6bnYqr10Q",
   "metadata": {
    "colab": {
     "base_uri": "https://localhost:8080/"
    },
    "executionInfo": {
     "elapsed": 83333,
     "status": "ok",
     "timestamp": 1637818036084,
     "user": {
      "displayName": "Prakhar Kumar",
      "photoUrl": "https://lh3.googleusercontent.com/a/default-user=s64",
      "userId": "11860311149207622884"
     },
     "user_tz": -330
    },
    "id": "KSO6bnYqr10Q",
    "outputId": "8a646ffe-9be7-4507-b627-38cc36fc2746"
   },
   "outputs": [
    {
     "name": "stdout",
     "output_type": "stream",
     "text": [
      "Epoch 1/15\n",
      "336/336 [==============================] - 5s 10ms/step - loss: 0.4353 - accuracy: 0.7630 - val_loss: 0.4299 - val_accuracy: 0.7141\n",
      "Epoch 2/15\n",
      "336/336 [==============================] - 3s 10ms/step - loss: 0.2121 - accuracy: 0.8881 - val_loss: 0.4947 - val_accuracy: 0.7446\n",
      "Epoch 3/15\n",
      "336/336 [==============================] - 3s 9ms/step - loss: 0.1409 - accuracy: 0.9293 - val_loss: 0.5905 - val_accuracy: 0.7442\n",
      "Epoch 4/15\n",
      "336/336 [==============================] - 3s 9ms/step - loss: 0.1090 - accuracy: 0.9466 - val_loss: 0.6362 - val_accuracy: 0.7453\n",
      "Epoch 5/15\n",
      "105/336 [========>.....................] - ETA: 2s - loss: 0.0814 - accuracy: 0.9583"
     ]
    }
   ],
   "source": [
    "model.fit(X_train, y_train, epochs=15, validation_split=0.2, class_weight=cw)"
   ]
  },
  {
   "cell_type": "code",
   "execution_count": null,
   "id": "tC72OlLjb4-s",
   "metadata": {
    "colab": {
     "base_uri": "https://localhost:8080/"
    },
    "executionInfo": {
     "elapsed": 1929,
     "status": "ok",
     "timestamp": 1637818102746,
     "user": {
      "displayName": "Prakhar Kumar",
      "photoUrl": "https://lh3.googleusercontent.com/a/default-user=s64",
      "userId": "11860311149207622884"
     },
     "user_tz": -330
    },
    "id": "tC72OlLjb4-s",
    "outputId": "4d7032a4-de89-437b-d02c-6f70747f75f4"
   },
   "outputs": [
    {
     "name": "stdout",
     "output_type": "stream",
     "text": [
      "INFO:tensorflow:Assets written to: ram://d22fb613-79cb-4a27-8b74-e8e5e9810b1f/assets\n"
     ]
    },
    {
     "data": {
      "text/plain": [
       "['OthersModel']"
      ]
     },
     "execution_count": 16,
     "metadata": {},
     "output_type": "execute_result"
    }
   ],
   "source": [
    "# joblib.dump(model, \"OthersModel\")\n",
    "model.save('om.h5')"
   ]
  },
  {
   "cell_type": "code",
   "execution_count": null,
   "id": "rxW4NtEUrgdy",
   "metadata": {
    "id": "rxW4NtEUrgdy"
   },
   "outputs": [],
   "source": [
    "model = joblib.load(\"OthersModel\")"
   ]
  },
  {
   "cell_type": "code",
   "execution_count": null,
   "id": "GmcgtrZisI0_",
   "metadata": {
    "id": "GmcgtrZisI0_"
   },
   "outputs": [],
   "source": [
    "preds = model.predict(X_test)"
   ]
  },
  {
   "cell_type": "code",
   "execution_count": null,
   "id": "YBcIpEOPsRby",
   "metadata": {
    "id": "YBcIpEOPsRby"
   },
   "outputs": [],
   "source": [
    "preds = [np.argmax(x) for x in preds]"
   ]
  },
  {
   "cell_type": "code",
   "execution_count": null,
   "id": "RBjfC9wBvoBX",
   "metadata": {
    "colab": {
     "base_uri": "https://localhost:8080/"
    },
    "executionInfo": {
     "elapsed": 9,
     "status": "ok",
     "timestamp": 1637820021751,
     "user": {
      "displayName": "Prakhar Kumar",
      "photoUrl": "https://lh3.googleusercontent.com/a/default-user=s64",
      "userId": "11860311149207622884"
     },
     "user_tz": -330
    },
    "id": "RBjfC9wBvoBX",
    "outputId": "6f841691-e8cc-4b1d-def5-4ebf4c37d3d4"
   },
   "outputs": [
    {
     "data": {
      "text/plain": [
       "0.47806093157238755"
      ]
     },
     "execution_count": 100,
     "metadata": {},
     "output_type": "execute_result"
    }
   ],
   "source": [
    "f1_score(testSet['Stance'], preds, average='macro')"
   ]
  },
  {
   "cell_type": "code",
   "execution_count": null,
   "id": "hKyd_XpEvq1C",
   "metadata": {
    "colab": {
     "base_uri": "https://localhost:8080/",
     "height": 388
    },
    "executionInfo": {
     "elapsed": 2926,
     "status": "ok",
     "timestamp": 1637820027642,
     "user": {
      "displayName": "Prakhar Kumar",
      "photoUrl": "https://lh3.googleusercontent.com/a/default-user=s64",
      "userId": "11860311149207622884"
     },
     "user_tz": -330
    },
    "id": "hKyd_XpEvq1C",
    "outputId": "979b0f8f-d18a-4a9a-b692-ce838ce9a4fb"
   },
   "outputs": [
    {
     "data": {
      "image/png": "[encoded data removed]",
      "text/plain": [
       "<Figure size 576x432 with 2 Axes>"
      ]
     },
     "metadata": {
      "needs_background": "light"
     },
     "output_type": "display_data"
    }
   ],
   "source": [
    "cwMat = confusion_matrix(testSet['Stance'], preds, labels = [0, 1, 2])\n",
    "cwDf = pd.DataFrame(cwMat, index=[\"agree\", \"disagree\", \"discuss\"], columns=[\"agree\", \"disagree\", \"discuss\"])\n",
    "plt.figure(figsize=(8,6))\n",
    "sns.heatmap(cwDf, annot=True, fmt=\"d\")\n",
    "plt.xlabel('predicted')\n",
    "plt.ylabel('actual')\n",
    "plt.show()"
   ]
  },
  {
   "cell_type": "markdown",
   "id": "CaYgEXMK-0hR",
   "metadata": {
    "id": "CaYgEXMK-0hR"
   },
   "source": [
    "### Testing"
   ]
  },
  {
   "cell_type": "code",
   "execution_count": 5,
   "id": "bkwd8HA9eIDf",
   "metadata": {
    "executionInfo": {
     "elapsed": 1671,
     "status": "ok",
     "timestamp": 1637846409174,
     "user": {
      "displayName": "Prakhar Kumar",
      "photoUrl": "https://lh3.googleusercontent.com/a/default-user=s64",
      "userId": "11860311149207622884"
     },
     "user_tz": -330
    },
    "id": "bkwd8HA9eIDf"
   },
   "outputs": [],
   "source": [
    "testStances = pd.read_csv('competition_test_stances.csv')\n",
    "testBodies = pd.read_csv('competition_test_bodies.csv')\n",
    "testSet = pd.merge(testStances, testBodies, on=\"Body ID\")"
   ]
  },
  {
   "cell_type": "code",
   "execution_count": 8,
   "id": "XYgHenchXqlc",
   "metadata": {
    "executionInfo": {
     "elapsed": 516,
     "status": "ok",
     "timestamp": 1637846529262,
     "user": {
      "displayName": "Prakhar Kumar",
      "photoUrl": "https://lh3.googleusercontent.com/a/default-user=s64",
      "userId": "11860311149207622884"
     },
     "user_tz": -330
    },
    "id": "XYgHenchXqlc"
   },
   "outputs": [],
   "source": [
    "'''\n",
    "  Accepts a dataframe with following columns - \n",
    "  Headline - text data\n",
    "  articleBody - text data\n",
    "\n",
    "  returns features which are used to predict unrelated vs others(agree, disagree, discuss)\n",
    "'''\n",
    "def convertDataOne(x):\n",
    "  vectorizer = joblib.load(\"UnrelatedVsOthersVectorizer\")\n",
    "  x['headTFIDF'] = vectorizer.transform(x['Headline']).toarray().tolist()\n",
    "  x['articleBodyTFIDF'] = vectorizer.transform(x['articleBody']).toarray().tolist()\n",
    "  del(x['Headline'])\n",
    "  del(x['articleBody'])\n",
    "\n",
    "  p = x['headTFIDF'].tolist()\n",
    "  q = x['articleBodyTFIDF'].tolist()\n",
    "  del(x['headTFIDF'])\n",
    "  del(x['articleBodyTFIDF'])\n",
    "\n",
    "  # Calculate distances between headline TFIDF and Body TFIDF\n",
    "  cos = []\n",
    "  euc = []\n",
    "  man = []\n",
    "  for idx, _ in enumerate(p):\n",
    "    cos.append(cosine_similarity( [p[idx]], [q[idx]])[0][0])\n",
    "    euc.append(euclidean_distances( [p[idx]], [q[idx]])[0][0])\n",
    "    man.append(manhattan_distances( [p[idx]], [q[idx]])[0][0])\n",
    "  x['cos_simil'] = cos\n",
    "  x['euclidean'] = euc\n",
    "  x['manhattan'] = man\n",
    "\n",
    "  return x\n",
    "\n",
    "'''\n",
    "  Accepts a dataframe with following columns - \n",
    "  Headline - text data\n",
    "  articleBody - text data\n",
    "\n",
    "  returns features which are used to predict agree or disagree or discuss\n",
    "'''\n",
    "def convertDataTwo(x):\n",
    "  vectorizer2 = joblib.load(\"OthersVectorizer\")\n",
    "  x['headTFIDF'] = vectorizer2.transform(x['Headline']).toarray().tolist()\n",
    "  x['articleBodyTFIDF'] = vectorizer2.transform(x['articleBody']).toarray().tolist()\n",
    "  x['allTFIDF'] = np.concatenate((x['headTFIDF'].tolist(), x['articleBodyTFIDF'].tolist()), axis=1).tolist()\n",
    "  del(x['Headline'])\n",
    "  del(x['articleBody'])\n",
    "  del(x['headTFIDF'])\n",
    "  del(x['articleBodyTFIDF'])\n",
    "\n",
    "  return x\n",
    "\n",
    "\n",
    "'''\n",
    "  Accepts a dataframe with following columns - \n",
    "  Headline - text data\n",
    "  articleBody - text data\n",
    "\n",
    "  returns predictions for the rows in the dataframe\n",
    "'''\n",
    "def predictOnData(df):\n",
    "  x = df.copy(deep=True)\n",
    "  \n",
    "  x = convertDataOne(x)\n",
    "  model1 = joblib.load(\"UnrelatedVsOthersModel\")\n",
    "  preds = model1.predict(x[['cos_simil', 'euclidean', 'manhattan']])\n",
    "  preds = [np.argmax(x) for x in preds]\n",
    "  preds = np.array(preds)\n",
    "  \n",
    "  idxs = list(np.where(preds == 1)[0])\n",
    "\n",
    "  if len(idxs) == 0:\n",
    "    return list(preds)\n",
    "\n",
    "  preds = list(preds)\n",
    "\n",
    "  for i, _ in enumerate(preds):\n",
    "    if preds[i] == 0:\n",
    "      preds[i] = 'unrelated'\n",
    "\n",
    "\n",
    "  \n",
    "  model2 = joblib.load(\"OthersModel\")\n",
    "  x = df.copy(deep=True)\n",
    "  x = x.loc[idxs, :]\n",
    " \n",
    "  x = convertDataTwo(x)\n",
    "  preds2 = model2.predict(x['allTFIDF'].tolist())\n",
    "  preds2 = [np.argmax(x) for x in preds2]\n",
    "\n",
    "  for i,_ in enumerate(preds2):\n",
    "    if preds2[i] == 0:\n",
    "      preds2[i] = 'agree'\n",
    "    elif preds2[i] == 1:\n",
    "      preds2[i] = 'disagree'\n",
    "    else:\n",
    "      preds2[i] = 'discuss'\n",
    "  \n",
    "  for i, idx in enumerate(idxs):\n",
    "    preds[idx] = preds2[i]\n",
    "  \n",
    "  \n",
    "\n",
    "  return preds"
   ]
  },
  {
   "cell_type": "code",
   "execution_count": 9,
   "id": "YPMJ2bRteIHZ",
   "metadata": {
    "executionInfo": {
     "elapsed": 207242,
     "status": "ok",
     "timestamp": 1637846738452,
     "user": {
      "displayName": "Prakhar Kumar",
      "photoUrl": "https://lh3.googleusercontent.com/a/default-user=s64",
      "userId": "11860311149207622884"
     },
     "user_tz": -330
    },
    "id": "YPMJ2bRteIHZ"
   },
   "outputs": [],
   "source": [
    "preds = predictOnData(testSet)\n",
    "predictedTest = testSet.copy(deep=True)\n",
    "predictedTest['Stance'] = preds"
   ]
  },
  {
   "cell_type": "code",
   "execution_count": null,
   "id": "tTyxtZqcnhtD",
   "metadata": {
    "id": "tTyxtZqcnhtD"
   },
   "outputs": [],
   "source": [
    "predictedTest.to_csv('predictedTest.csv')\n",
    "testSet.to_csv('goldTest.csv')"
   ]
  },
  {
   "cell_type": "code",
   "execution_count": 10,
   "id": "WM6Q8oq3Xzd6",
   "metadata": {
    "executionInfo": {
     "elapsed": 424,
     "status": "ok",
     "timestamp": 1637846822556,
     "user": {
      "displayName": "Prakhar Kumar",
      "photoUrl": "https://lh3.googleusercontent.com/a/default-user=s64",
      "userId": "11860311149207622884"
     },
     "user_tz": -330
    },
    "id": "WM6Q8oq3Xzd6"
   },
   "outputs": [],
   "source": [
    "FIELDNAMES = ['Headline', 'Body ID', 'Stance', 'articleBody']\n",
    "LABELS = ['agree', 'disagree', 'discuss', 'unrelated']\n",
    "RELATED = LABELS[0:3]\n",
    "USAGE = \"\"\"\n",
    "FakeNewsChallenge FNC-1 scorer - version 1.0\n",
    "Usage: python scorer.py gold_labels test_labels\n",
    "  gold_labels - CSV file with reference GOLD stance labels\n",
    "  test_labels - CSV file with predicted stance labels\n",
    "The scorer will provide three scores: MAX, NULL, and TEST\n",
    "  MAX  - the best possible score (100% accuracy)\n",
    "  NULL - score as if all predicted stances were unrelated\n",
    "  TEST - score based on the provided predictions\n",
    "\"\"\"\n",
    "\n",
    "ERROR_MISMATCH = \"\"\"\n",
    "ERROR: Entry mismatch at line {}\n",
    " [expected] Headline: {} // Body ID: {}\n",
    " [got] Headline: {} // Body ID: {}\n",
    "\"\"\"\n",
    "\n",
    "SCORE_REPORT = \"\"\"\n",
    "MAX  - the best possible score (100% accuracy)\n",
    "NULL - score as if all predicted stances were unrelated\n",
    "TEST - score based on the provided predictions\n",
    "||    MAX    ||    NULL   ||    TEST   ||\\n||{:^11}||{:^11}||{:^11}||\n",
    "\"\"\""
   ]
  },
  {
   "cell_type": "code",
   "execution_count": 11,
   "id": "IsaLODNzwHu1",
   "metadata": {
    "executionInfo": {
     "elapsed": 2,
     "status": "ok",
     "timestamp": 1637846823164,
     "user": {
      "displayName": "Prakhar Kumar",
      "photoUrl": "https://lh3.googleusercontent.com/a/default-user=s64",
      "userId": "11860311149207622884"
     },
     "user_tz": -330
    },
    "id": "IsaLODNzwHu1"
   },
   "outputs": [],
   "source": [
    "def score_submission(gold_labels, test_labels):\n",
    "    score = 0.0\n",
    "    cm = [[0, 0, 0, 0],\n",
    "          [0, 0, 0, 0],\n",
    "          [0, 0, 0, 0],\n",
    "          [0, 0, 0, 0]]\n",
    "\n",
    "    for i, ((_,g), (_,t)) in enumerate(zip(gold_labels.iterrows(), test_labels.iterrows())):\n",
    "        if g['Headline'] != t['Headline'] or g['Body ID'] != t['Body ID']:\n",
    "            error = ERROR_MISMATCH.format(i+2,\n",
    "                                          g['Headline'], g['Body ID'],\n",
    "                                          t['Headline'], t['Body ID'])\n",
    "        else:\n",
    "            g_stance, t_stance = g['Stance'], t['Stance']\n",
    "            if g_stance == t_stance:\n",
    "                score += 0.25\n",
    "                if g_stance != 'unrelated':\n",
    "                    score += 0.50\n",
    "            if g_stance in RELATED and t_stance in RELATED:\n",
    "                score += 0.25\n",
    "\n",
    "        cm[LABELS.index(g_stance)][LABELS.index(t_stance)] += 1\n",
    "\n",
    "    return score, cm"
   ]
  },
  {
   "cell_type": "code",
   "execution_count": 12,
   "id": "EKsX6wg0Xqce",
   "metadata": {
    "executionInfo": {
     "elapsed": 7,
     "status": "ok",
     "timestamp": 1637846823846,
     "user": {
      "displayName": "Prakhar Kumar",
      "photoUrl": "https://lh3.googleusercontent.com/a/default-user=s64",
      "userId": "11860311149207622884"
     },
     "user_tz": -330
    },
    "id": "EKsX6wg0Xqce"
   },
   "outputs": [],
   "source": [
    "def score_defaults(gold_labels):\n",
    "    \"\"\"\n",
    "    Compute the \"all false\" baseline (all labels as unrelated) and the max\n",
    "    possible score\n",
    "    :param gold_labels: list containing the true labels\n",
    "    :return: (null_score, best_score)\n",
    "    \"\"\"\n",
    "    unrelated = [g for _,g in gold_labels.iterrows() if g['Stance'] == 'unrelated']\n",
    "    null_score = 0.25 * len(unrelated)\n",
    "    max_score = null_score + (len(gold_labels) - len(unrelated))\n",
    "    return null_score, max_score\n"
   ]
  },
  {
   "cell_type": "code",
   "execution_count": 13,
   "id": "cLXL5-QLXqeo",
   "metadata": {
    "executionInfo": {
     "elapsed": 6,
     "status": "ok",
     "timestamp": 1637846823848,
     "user": {
      "displayName": "Prakhar Kumar",
      "photoUrl": "https://lh3.googleusercontent.com/a/default-user=s64",
      "userId": "11860311149207622884"
     },
     "user_tz": -330
    },
    "id": "cLXL5-QLXqeo"
   },
   "outputs": [],
   "source": [
    "def print_confusion_matrix(cm):\n",
    "    lines = ['CONFUSION MATRIX:']\n",
    "    header = \"|{:^11}|{:^11}|{:^11}|{:^11}|{:^11}|\".format('', *LABELS)\n",
    "    line_len = len(header)\n",
    "    lines.append(\"-\"*line_len)\n",
    "    lines.append(header)\n",
    "    lines.append(\"-\"*line_len)\n",
    "\n",
    "    hit = 0\n",
    "    total = 0\n",
    "    for i, row in enumerate(cm):\n",
    "        hit += row[i]\n",
    "        total += sum(row)\n",
    "        lines.append(\"|{:^11}|{:^11}|{:^11}|{:^11}|{:^11}|\".format(LABELS[i],\n",
    "                                                                   *row))\n",
    "        lines.append(\"-\"*line_len)\n",
    "    lines.append(\"ACCURACY: {:.3f}\".format(hit / total))\n",
    "    print('\\n'.join(lines))"
   ]
  },
  {
   "cell_type": "code",
   "execution_count": 14,
   "id": "X58KAblgXqhB",
   "metadata": {
    "colab": {
     "base_uri": "https://localhost:8080/"
    },
    "executionInfo": {
     "elapsed": 6665,
     "status": "ok",
     "timestamp": 1637846830948,
     "user": {
      "displayName": "Prakhar Kumar",
      "photoUrl": "https://lh3.googleusercontent.com/a/default-user=s64",
      "userId": "11860311149207622884"
     },
     "user_tz": -330
    },
    "id": "X58KAblgXqhB",
    "outputId": "2cdf45e0-50b3-4d5e-95cf-4eacc05bbf86"
   },
   "outputs": [
    {
     "name": "stdout",
     "output_type": "stream",
     "text": [
      "CONFUSION MATRIX:\n",
      "-------------------------------------------------------------\n",
      "|           |   agree   | disagree  |  discuss  | unrelated |\n",
      "-------------------------------------------------------------\n",
      "|   agree   |    721    |    85     |    594    |    503    |\n",
      "-------------------------------------------------------------\n",
      "| disagree  |    180    |    54     |    166    |    297    |\n",
      "-------------------------------------------------------------\n",
      "|  discuss  |    508    |    94     |   2511    |   1351    |\n",
      "-------------------------------------------------------------\n",
      "| unrelated |    203    |    71     |    542    |   17533   |\n",
      "-------------------------------------------------------------\n",
      "ACCURACY: 0.819\n",
      "\n",
      "MAX  - the best possible score (100% accuracy)\n",
      "NULL - score as if all predicted stances were unrelated\n",
      "TEST - score based on the provided predictions\n",
      "||    MAX    ||    NULL   ||    TEST   ||\n",
      "|| 11651.25  ||  4587.25  ||  8076.0   ||\n",
      "\n"
     ]
    }
   ],
   "source": [
    "test_score, cm = score_submission(testSet, predictedTest)\n",
    "null_score, max_score = score_defaults(testSet)\n",
    "print_confusion_matrix(cm)\n",
    "print(SCORE_REPORT.format(max_score, null_score, test_score))"
   ]
  },
  {
   "cell_type": "code",
   "execution_count": null,
   "id": "-H0ExI2DiifG",
   "metadata": {
    "id": "-H0ExI2DiifG"
   },
   "outputs": [],
   "source": []
  },
  {
   "cell_type": "code",
   "execution_count": null,
   "id": "p4lpa2PDh7GT",
   "metadata": {
    "id": "p4lpa2PDh7GT"
   },
   "outputs": [],
   "source": []
  },
  {
   "cell_type": "code",
   "execution_count": null,
   "id": "_QyPgJBrlTaQ",
   "metadata": {
    "id": "_QyPgJBrlTaQ"
   },
   "outputs": [],
   "source": []
  },
  {
   "cell_type": "code",
   "execution_count": null,
   "id": "iH3QbHN4m145",
   "metadata": {
    "id": "iH3QbHN4m145"
   },
   "outputs": [],
   "source": []
  }
 ],
 "metadata": {
  "colab": {
   "collapsed_sections": [
    "P_mf-aJQ_rga",
    "akodEOyLWXF3"
   ],
   "name": "Proj2.ipynb",
   "provenance": []
  },
  "kernelspec": {
   "display_name": "Python 3 (ipykernel)",
   "language": "python",
   "name": "python3"
  },
  "language_info": {
   "codemirror_mode": {
    "name": "ipython",
    "version": 3
   },
   "file_extension": ".py",
   "mimetype": "text/x-python",
   "name": "python",
   "nbconvert_exporter": "python",
   "pygments_lexer": "ipython3",
   "version": "3.9.5"
  }
 },
 "nbformat": 4,
 "nbformat_minor": 5
}
